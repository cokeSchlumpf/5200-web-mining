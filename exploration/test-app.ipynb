{
 "cells": [
  {
   "cell_type": "code",
   "execution_count": 10,
   "metadata": {},
   "outputs": [],
   "source": [
    "import os\n",
    "import sys\n",
    "sys.path.append('..')"
   ]
  },
  {
   "cell_type": "code",
   "execution_count": 2,
   "metadata": {},
   "outputs": [],
   "source": [
    "import train"
   ]
  },
  {
   "cell_type": "code",
   "execution_count": 11,
   "metadata": {},
   "outputs": [],
   "source": [
    "data = train.load_data(os.path.join('..', train.TRAINING_SET))"
   ]
  },
  {
   "cell_type": "code",
   "execution_count": 13,
   "metadata": {},
   "outputs": [
    {
     "data": {
      "text/plain": [
       "CountVectorizer(analyzer='word', binary=False, decode_error='strict',\n",
       "                dtype=<class 'numpy.int64'>, encoding='utf-8', input='content',\n",
       "                lowercase=True, max_df=1.0, max_features=None, min_df=1,\n",
       "                ngram_range=(1, 1), preprocessor=None, stop_words=None,\n",
       "                strip_accents=None, token_pattern='(?u)\\\\b\\\\w\\\\w+\\\\b',\n",
       "                tokenizer=<function tokenizer at 0x113af8710>, vocabulary=None)"
      ]
     },
     "execution_count": 13,
     "metadata": {},
     "output_type": "execute_result"
    }
   ],
   "source": [
    "tokenizer = train.create_tokenizer()\n",
    "vectorizer = train.create_vectorizer(tokenizer.component).component\n",
    "vectorizer.fit(data['text'])"
   ]
  },
  {
   "cell_type": "code",
   "execution_count": 31,
   "metadata": {},
   "outputs": [
    {
     "data": {
      "text/plain": [
       "['rt @jballinbutts420 @jamie_caudillo retard atleast date bring birthday&#10084;&#65039;&#128535',\n",
       " 'know buy bitch drink tonight fuck life hit miss chance',\n",
       " 'rt @taymaegotem bitch tweet like ...',\n",
       " 'ghetto motherfuckers -missy elliott',\n",
       " 'rt @lrtc1 magnus team leader particularly rude unhelpful oppose charlie blatantly lie awful service @s&#8230',\n",
       " 'chick badder basic bitch',\n",
       " 'hope cameron ... 8212 hoe http://t.co/npx7gltmst',\n",
       " '@nigggapino bitch 8 amp trinna change 2 128514;&#128557',\n",
       " 'rt @karlos_budah kill bitch nigga girl 128076',\n",
       " 'ill fire nina like \\ufeff1 day job bitch sleep',\n",
       " 'rt @markhoppus yes yes know fob reconciliation idea welcome',\n",
       " 'boyfriend smart ass bitch watch wear pant fuck unzip k.',\n",
       " '@garcialaura lol bad forget hoe sad',\n",
       " '~~ruffled ntac eileen dahlia beautiful color combination pink orange yellow amp white coll http://t.co/h0dyebvnzb',\n",
       " 'rt @iamkatjohnson rt @1inkkofrosess bout time feel like beening hard work woman ..... stripper hoe night do&#8230',\n",
       " '8/16/14 mo @govjaynixon let 8220;kill cracker kill baby new black panther hijack ferguson presser http://t.co/z2wko9ripz',\n",
       " '@ac_hussle bitch hoe surprise',\n",
       " 'bob schieffer holiday proud smite good white guy hick damn 1965',\n",
       " 'rt @thecoreyholcomb man abort baby abortion bitch soon meet god amp baby face th&#8230',\n",
       " 'rt @leezythewarrior let messy hoe mess yo business ...']"
      ]
     },
     "execution_count": 31,
     "metadata": {},
     "output_type": "execute_result"
    }
   ],
   "source": [
    "[ str.join(' ', tokenizer.component(row['text'])) for index, row in data[100:120].iterrows() ]"
   ]
  },
  {
   "cell_type": "code",
   "execution_count": 34,
   "metadata": {},
   "outputs": [
    {
     "data": {
      "text/plain": [
       "[\"RT @jballinbutts420: @Jamie_Caudillo you're retarded enough to be both. But atleast I have a date to bring you on for your birthday&#10084;&#65039;&#128535;\",\n",
       " \"I already know I'm about to buy so many bitches drinks tonight that I'll never fuck but life's all about hits and misses. Gotta take chances\",\n",
       " 'RT @taymaeGOTEM: Bitches tweets be like...',\n",
       " '\"This is for my ghetto motherfuckers\" -Missy Elliott',\n",
       " 'RT @LRTC1: Magnus the \"team leader\" was particularly rude and unhelpful. As opposed to Charlie, who just blatantly lied. Awful service. @s&#8230;',\n",
       " 'my chick badder than your basic bitches',\n",
       " \"I really hope you and Cameron don't get back together you can do so much better than that ... &#8212; dont call her a hoe http://t.co/npX7GLtMst\",\n",
       " \"@NigggaPino a bitch got 8 &amp; I'm trinna change 2 &#128514;&#128557;\",\n",
       " \"RT @karlos_budah: Gone kill me bitch nigga don't be a girl about &#128076;\",\n",
       " 'Ill fire that nina like its her first day on the job an the bitch over slept',\n",
       " \"RT @markhoppus: Yes, yes I know all about the FOB reconciliation. IT WAS MY IDEA! You're welcome.\",\n",
       " 'My boyfriend is such a smart ass bitch watch yourself you wear the pants but I fucking unzip them. K.',\n",
       " '@garcialaura_ lol my bad, I forgot that hoe made ya sad',\n",
       " '~~Ruffled | Ntac Eileen Dahlia - Beautiful color combination of pink, orange, yellow &amp; white. A Coll http://t.co/H0dYEBvnZB',\n",
       " \"RT @iamKatJohnson: RT @1inkkofrosess: It's bout that time were I feel like beening a hard working woman .....and a stripper hoe by night do&#8230;\",\n",
       " '8/16/14 MO @GovJayNixon let &#8220;kill some crackers, kill their babies\" New Black Panthers hijack his #Ferguson presser http://t.co/z2Wko9Ripz',\n",
       " \"@AC_Hussle bitches are hoes don't be surprised\",\n",
       " 'It\\'s a Bob Schieffer holiday now, he\\'s proud and smitten that he\\'s the \"good white guy,\" hicks be damned! Everything is 1965. Everything.',\n",
       " 'RT @thecoreyholcomb: No man has ever aborted a baby even if he have her $ on it. Abortion bitches will soon meet god &amp; they baby to face th&#8230;',\n",
       " \"RT @LeezyTheWarrior: Can't be letting them messy hoes mess with yo business...\"]"
      ]
     },
     "execution_count": 34,
     "metadata": {},
     "output_type": "execute_result"
    }
   ],
   "source": [
    "[ row['text'] for index, row in data[100:120].iterrows() ]"
   ]
  },
  {
   "cell_type": "code",
   "execution_count": null,
   "metadata": {},
   "outputs": [],
   "source": []
  }
 ],
 "metadata": {
  "kernelspec": {
   "display_name": "Python 3",
   "language": "python",
   "name": "python3"
  },
  "language_info": {
   "codemirror_mode": {
    "name": "ipython",
    "version": 3
   },
   "file_extension": ".py",
   "mimetype": "text/x-python",
   "name": "python",
   "nbconvert_exporter": "python",
   "pygments_lexer": "ipython3",
   "version": "3.7.6"
  }
 },
 "nbformat": 4,
 "nbformat_minor": 2
}
